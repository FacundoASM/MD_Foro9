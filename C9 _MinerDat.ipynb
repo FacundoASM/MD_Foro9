{
 "cells": [
  {
   "cell_type": "markdown",
   "metadata": {},
   "source": [
    "# Importación de librerías y configuraciones iniciales."
   ]
  },
  {
   "cell_type": "code",
   "execution_count": null,
   "metadata": {},
   "outputs": [
    {
     "name": "stdout",
     "output_type": "stream",
     "text": [
      "Descargando recursos de NLTK...\n",
      "Recursos descargados correctamente\n",
      "numpy version: 2.1.2\n",
      "pandas version: 2.2.3\n",
      "scikit-learn version: 1.5.2\n",
      "Descargando recursos de NLTK...\n",
      "Recursos descargados correctamente\n",
      "Todas las importaciones y configuraciones completadas correctamente\n"
     ]
    },
    {
     "name": "stderr",
     "output_type": "stream",
     "text": [
      "[nltk_data] Downloading package punkt to\n",
      "[nltk_data]     C:\\Users\\facun\\AppData\\Roaming\\nltk_data...\n",
      "[nltk_data]   Package punkt is already up-to-date!\n",
      "[nltk_data] Downloading package stopwords to\n",
      "[nltk_data]     C:\\Users\\facun\\AppData\\Roaming\\nltk_data...\n",
      "[nltk_data]   Package stopwords is already up-to-date!\n",
      "[nltk_data] Downloading package vader_lexicon to\n",
      "[nltk_data]     C:\\Users\\facun\\AppData\\Roaming\\nltk_data...\n",
      "[nltk_data]   Package vader_lexicon is already up-to-date!\n"
     ]
    }
   ],
   "source": [
    "# Importar primero numpy\n",
    "import numpy as np\n",
    "import sklearn\n",
    "# Luego el resto de las importaciones\n",
    "import requests\n",
    "from bs4 import BeautifulSoup\n",
    "import pandas as pd\n",
    "import nltk\n",
    "import ssl\n",
    "\n",
    "try:\n",
    "    _create_unverified_https_context = ssl._create_unverified_context\n",
    "except AttributeError:\n",
    "    pass\n",
    "else:\n",
    "    ssl._create_default_https_context = _create_unverified_https_context\n",
    "\n",
    "# Descargar todos los recursos necesarios\n",
    "print(\"Descargando recursos de NLTK...\")\n",
    "nltk.download('punkt', quiet=True)\n",
    "nltk.download('stopwords', quiet=True)\n",
    "nltk.download('vader_lexicon', quiet=True)\n",
    "print(\"Recursos descargados correctamente\")\n",
    "\n",
    "from nltk.tokenize import word_tokenize, sent_tokenize\n",
    "from nltk.corpus import stopwords\n",
    "from nltk.stem import SnowballStemmer\n",
    "from nltk.sentiment import SentimentIntensityAnalyzer\n",
    "from sklearn.feature_extraction.text import TfidfVectorizer\n",
    "import re\n",
    "\n",
    "# Verificar versiones\n",
    "print(f\"numpy version: {np.__version__}\")\n",
    "print(f\"pandas version: {pd.__version__}\")\n",
    "print(f\"scikit-learn version: {sklearn.__version__}\")\n",
    "\n",
    "# Descargar recursos necesarios de NLTK\n",
    "try:\n",
    "    nltk.data.find('tokenizers/punkt')\n",
    "    nltk.data.find('corpora/stopwords')\n",
    "    nltk.data.find('sentiment/vader_lexicon')\n",
    "except LookupError:\n",
    "    print(\"Descargando recursos de NLTK...\")\n",
    "    nltk.download('punkt')\n",
    "    nltk.download('stopwords')\n",
    "    nltk.download('vader_lexicon')\n",
    "    print(\"Recursos descargados correctamente\")\n",
    "\n",
    "# Inicializar recursos básicos\n",
    "stop_words = set(stopwords.words('spanish'))\n",
    "stemmer = SnowballStemmer('spanish')\n",
    "sia = SentimentIntensityAnalyzer()\n",
    "\n",
    "print(\"Todas las importaciones y configuraciones completadas correctamente\")"
   ]
  },
  {
   "cell_type": "markdown",
   "metadata": {},
   "source": [
    "# Función para extraer texto de la web"
   ]
  },
  {
   "cell_type": "code",
   "execution_count": 27,
   "metadata": {},
   "outputs": [],
   "source": [
    "def extraer_texto_web(url):\n",
    "    \"\"\"\n",
    "    Extrae texto de una página web usando Beautiful Soup\n",
    "    \"\"\"\n",
    "    try:\n",
    "        response = requests.get(url)\n",
    "        soup = BeautifulSoup(response.text, 'html.parser')\n",
    "        \n",
    "        # Extraer todos los párrafos\n",
    "        textos = []\n",
    "        for parrafo in soup.find_all('p'):\n",
    "            texto = parrafo.get_text().strip()\n",
    "            if texto:  # Solo agregar si no está vacío\n",
    "                textos.append(texto)\n",
    "                \n",
    "        return textos\n",
    "        \n",
    "    except Exception as e:\n",
    "        print(f\"Error al extraer texto: {str(e)}\")\n",
    "        return []"
   ]
  },
  {
   "cell_type": "markdown",
   "metadata": {},
   "source": [
    "# Función de preprocesamiento"
   ]
  },
  {
   "cell_type": "code",
   "execution_count": 28,
   "metadata": {},
   "outputs": [],
   "source": [
    "def preprocesar_texto(texto):\n",
    "    \"\"\"\n",
    "    Realiza el preprocesamiento completo del texto\n",
    "    \"\"\"\n",
    "    try:\n",
    "        # Convertir a minúsculas y eliminar caracteres especiales\n",
    "        texto = texto.lower()\n",
    "        texto = re.sub(r'[^\\w\\s]', '', texto)\n",
    "        \n",
    "        # Verificar si los recursos están disponibles\n",
    "        try:\n",
    "            nltk.data.find('tokenizers/punkt')\n",
    "        except LookupError:\n",
    "            nltk.download('punkt')\n",
    "        \n",
    "        # Tokenización\n",
    "        tokens = word_tokenize(texto)\n",
    "        \n",
    "        # Eliminar stopwords y aplicar stemming\n",
    "        tokens = [stemmer.stem(token) for token in tokens \n",
    "                 if token not in stop_words and len(token) > 2]\n",
    "        \n",
    "        return tokens\n",
    "    except Exception as e:\n",
    "        print(f\"Error en preprocesamiento: {str(e)}\")\n",
    "        return []"
   ]
  },
  {
   "cell_type": "markdown",
   "metadata": {},
   "source": [
    "# Función para crear TF-IDF"
   ]
  },
  {
   "cell_type": "code",
   "execution_count": 29,
   "metadata": {},
   "outputs": [],
   "source": [
    "def crear_tfidf(textos):\n",
    "    \"\"\"\n",
    "    Crea la representación TF-IDF de los textos\n",
    "    \"\"\"\n",
    "    vectorizer = TfidfVectorizer(preprocessor=lambda x: ' '.join(preprocesar_texto(x)))\n",
    "    tfidf_matrix = vectorizer.fit_transform(textos)\n",
    "    \n",
    "    return pd.DataFrame(\n",
    "        tfidf_matrix.toarray(),\n",
    "        columns=vectorizer.get_feature_names_out()\n",
    "    )"
   ]
  },
  {
   "cell_type": "markdown",
   "metadata": {},
   "source": [
    "# Función para el análisis de sentimientos"
   ]
  },
  {
   "cell_type": "code",
   "execution_count": 30,
   "metadata": {},
   "outputs": [],
   "source": [
    "def analizar_sentimiento(texto):\n",
    "    \"\"\"\n",
    "    Analiza el sentimiento del texto\n",
    "    \"\"\"\n",
    "    scores = sia.polarity_scores(texto)\n",
    "    \n",
    "    # Clasificar según el compound score\n",
    "    if scores['compound'] >= 0.05:\n",
    "        sentimiento = 'positivo'\n",
    "    elif scores['compound'] <= -0.05:\n",
    "        sentimiento = 'negativo'\n",
    "    else:\n",
    "        sentimiento = 'neutral'\n",
    "        \n",
    "    return {\n",
    "        'sentimiento': sentimiento,\n",
    "        'scores': scores\n",
    "    }"
   ]
  },
  {
   "cell_type": "markdown",
   "metadata": {},
   "source": [
    "# Función principal de análisis"
   ]
  },
  {
   "cell_type": "code",
   "execution_count": 31,
   "metadata": {},
   "outputs": [],
   "source": [
    "def analizar_textos(url):\n",
    "    \"\"\"\n",
    "    Realiza el análisis completo de los textos extraídos\n",
    "    \"\"\"\n",
    "    try:\n",
    "        # Extraer textos\n",
    "        print(\"Extrayendo textos de la web...\")\n",
    "        textos = extraer_texto_web(url)\n",
    "        \n",
    "        if not textos:\n",
    "            return \"No se pudieron extraer textos de la URL proporcionada.\"\n",
    "        \n",
    "        resultados = []\n",
    "        \n",
    "        print(\"Procesando textos...\")\n",
    "        for texto in textos:\n",
    "            try:\n",
    "                # Preprocesamiento\n",
    "                tokens = preprocesar_texto(texto)\n",
    "                \n",
    "                # Análisis de sentimiento\n",
    "                sentimiento = analizar_sentimiento(texto)\n",
    "                \n",
    "                resultados.append({\n",
    "                    'texto_original': texto,\n",
    "                    'tokens': tokens,\n",
    "                    'sentimiento': sentimiento['sentimiento'],\n",
    "                    'scores': sentimiento['scores']\n",
    "                })\n",
    "            except Exception as e:\n",
    "                print(f\"Error procesando texto: {str(e)}\")\n",
    "                continue\n",
    "        \n",
    "        if not resultados:\n",
    "            return \"No se pudo procesar ningún texto correctamente.\"\n",
    "        \n",
    "        # Crear DataFrame con resultados\n",
    "        df_resultados = pd.DataFrame(resultados)\n",
    "        \n",
    "        # Crear representación TF-IDF\n",
    "        print(\"Creando representación TF-IDF...\")\n",
    "        tfidf_df = crear_tfidf([r['texto_original'] for r in resultados])\n",
    "        \n",
    "        return {\n",
    "            'resultados_detallados': df_resultados,\n",
    "            'tfidf': tfidf_df\n",
    "        }\n",
    "    except Exception as e:\n",
    "        print(f\"Error en el análisis: {str(e)}\")\n",
    "        return None"
   ]
  },
  {
   "cell_type": "markdown",
   "metadata": {},
   "source": [
    "# Ejemplo de uso"
   ]
  },
  {
   "cell_type": "code",
   "execution_count": 32,
   "metadata": {},
   "outputs": [
    {
     "name": "stdout",
     "output_type": "stream",
     "text": [
      "Extrayendo textos de la web...\n",
      "Procesando textos...\n",
      "Creando representación TF-IDF...\n",
      "\n",
      "Resumen de resultados:\n",
      "--------------------------------------------------\n",
      "\n",
      "Total de textos analizados: 71\n",
      "\n",
      "Distribución de sentimientos:\n",
      "sentimiento\n",
      "neutral     41\n",
      "negativo    17\n",
      "positivo    13\n",
      "Name: count, dtype: int64\n",
      "\n",
      "Primeros 3 textos con sus sentimientos:\n",
      "\n",
      "Texto: Nota de Xataka...\n",
      "Sentimiento: neutral\n",
      "Scores: {'neg': 0.0, 'neu': 1.0, 'pos': 0.0, 'compound': 0.0}\n",
      "\n",
      "Texto: Javier Pastor...\n",
      "Sentimiento: neutral\n",
      "Scores: {'neg': 0.0, 'neu': 1.0, 'pos': 0.0, 'compound': 0.0}\n",
      "\n",
      "Texto: En Samsung tienen claro que los convertibles se han convertido en el foco de atención del segmento d...\n",
      "Sentimiento: positivo\n",
      "Scores: {'neg': 0.0, 'neu': 0.962, 'pos': 0.038, 'compound': 0.34}\n"
     ]
    }
   ],
   "source": [
    "# URL del artículo de Xataka\n",
    "url_ejemplo = \"https://www.xataka.com/ordenadores/samsung-galaxy-book-analisis-un-2-en-1-que-convence-gracias-a-su-gran-teclado-y-al-s-pen\"\n",
    "\n",
    "# Realizar análisis\n",
    "resultados = analizar_textos(url_ejemplo)\n",
    "\n",
    "# Mostrar resultados\n",
    "if isinstance(resultados, dict):\n",
    "    print(\"\\nResumen de resultados:\")\n",
    "    print(\"-\" * 50)\n",
    "    df = resultados['resultados_detallados']\n",
    "    \n",
    "    print(f\"\\nTotal de textos analizados: {len(df)}\")\n",
    "    print(\"\\nDistribución de sentimientos:\")\n",
    "    print(df['sentimiento'].value_counts())\n",
    "    \n",
    "    print(\"\\nPrimeros 3 textos con sus sentimientos:\")\n",
    "    for _, row in df.head(3).iterrows():\n",
    "        print(f\"\\nTexto: {row['texto_original'][:100]}...\")\n",
    "        print(f\"Sentimiento: {row['sentimiento']}\")\n",
    "        print(f\"Scores: {row['scores']}\")"
   ]
  },
  {
   "cell_type": "markdown",
   "metadata": {},
   "source": [
    "# 1. Volumen de texto analizado:\n",
    "\n",
    "Se analizaron 71 párrafos del artículo\n",
    "\n",
    "# 2. Distribución de sentimientos:\n",
    "\n",
    "- Copyneutral:  41 párrafos (57.7%)\n",
    "- negativo: 17 párrafos (23.9%)\n",
    "- positivo: 13 párrafos (18.3%)\n",
    "\n",
    "Esto sugiere que el artículo es mayormente neutral en su tono, como se esperaría de una revisión técnica profesional.\n",
    "\n",
    "# 3. Análisis de los primeros textos:\n",
    "\n",
    "Los primeros dos párrafos son completamente neutrales (compound = 0.0), lo cual es típico para elementos de metadatos como la nota del autor y el nombre.\n",
    "El tercer párrafo muestra un sentimiento ligeramente positivo (compound = 0.34), lo cual es interesante porque habla de la estrategia de Samsung con los convertibles."
   ]
  },
  {
   "cell_type": "code",
   "execution_count": 33,
   "metadata": {},
   "outputs": [
    {
     "data": {
      "image/png": "[encoded data removed]",
      "text/plain": [
       "<Figure size 1000x600 with 1 Axes>"
      ]
     },
     "metadata": {},
     "output_type": "display_data"
    },
    {
     "name": "stdout",
     "output_type": "stream",
     "text": [
      "\n",
      "Scores promedio del artículo:\n",
      "neg: 0.022\n",
      "neu: 0.962\n",
      "pos: 0.016\n",
      "compound: -0.057\n"
     ]
    }
   ],
   "source": [
    "import matplotlib.pyplot as plt\n",
    "\n",
    "# Crear gráfico de distribución de sentimientos\n",
    "plt.figure(figsize=(10, 6))\n",
    "sentimientos = df['sentimiento'].value_counts()\n",
    "colores = ['gray', 'red', 'green']\n",
    "sentimientos.plot(kind='bar', color=colores)\n",
    "plt.title('Distribución de Sentimientos en el Artículo')\n",
    "plt.xlabel('Sentimiento')\n",
    "plt.ylabel('Número de Párrafos')\n",
    "plt.xticks(rotation=0)\n",
    "plt.tight_layout()\n",
    "plt.show()\n",
    "\n",
    "# Análisis más detallado de los scores\n",
    "scores_promedio = {\n",
    "    'neg': df['scores'].apply(lambda x: x['neg']).mean(),\n",
    "    'neu': df['scores'].apply(lambda x: x['neu']).mean(),\n",
    "    'pos': df['scores'].apply(lambda x: x['pos']).mean(),\n",
    "    'compound': df['scores'].apply(lambda x: x['compound']).mean()\n",
    "}\n",
    "\n",
    "print(\"\\nScores promedio del artículo:\")\n",
    "for metric, value in scores_promedio.items():\n",
    "    print(f\"{metric}: {value:.3f}\")"
   ]
  }
 ],
 "metadata": {
  "kernelspec": {
   "display_name": "Python 3",
   "language": "python",
   "name": "python3"
  },
  "language_info": {
   "codemirror_mode": {
    "name": "ipython",
    "version": 3
   },
   "file_extension": ".py",
   "mimetype": "text/x-python",
   "name": "python",
   "nbconvert_exporter": "python",
   "pygments_lexer": "ipython3",
   "version": "3.12.0"
  }
 },
 "nbformat": 4,
 "nbformat_minor": 2
}
